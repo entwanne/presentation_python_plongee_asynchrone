{
    "cells": [
        {
            "cell_type": "markdown",
            "metadata": {
                "scrolled": true,
                "slideshow": {
                    "slide_type": "slide"
                }
            },
            "source": [
                "# Plong\u00e9e au c\u0153ur du mod\u00e8le asynchrone Python \n",
                "### Sans boire la tasse\u00a0!\n",
                "#### <div align=\"right\">Antoine \"entwanne\" Rozo</div>\n",
                "\n",
                "<div align=\"right\"><img src=\"schtroumpf_flat_rounded.png\" style=\"width: 5em;\" /></div>\n",
                "\n",
                "<div align=\"right\"><img src=\"cc_by_sa.svg\" style=\"width: 5em;\" /></div>"
            ]
        },
        {
            "cell_type": "code",
            "metadata": {
                "scrolled": true,
                "slideshow": {
                    "slide_type": "skip"
                }
            },
            "source": [
                "%load_ext reopenable\n",
                "import asyncio\n",
                "\n",
                "class Loop(metaclass=Reopenable): pass\n",
                "class AIOSocket(metaclass=Reopenable): pass"
            ],
            "outputs": [],
            "execution_count": null
        },
        {
            "cell_type": "markdown",
            "metadata": {
                "scrolled": true,
                "slideshow": {
                    "slide_type": "subslide"
                }
            },
            "source": [
                "## \u00a0\n",
                "\n",
                "<center><img src=\"logos.png\" style=\"height: 20em;\" /></center>"
            ]
        },
        {
            "cell_type": "markdown",
            "metadata": {
                "scrolled": true,
                "slideshow": {
                    "slide_type": "subslide"
                }
            },
            "source": [
                "## Plong\u00e9e au c\u0153ur du mod\u00e8le asynchrone Python \n",
                "\n",
                "* `asyncio` n'est pas le seul moteur asynchrone\n",
                "* `async` et `await` ne lui sont pas intrins\u00e8quement li\u00e9s\n",
                "* Comment r\u00e9\u00e9crire `asyncio`\u00a0?\n",
                "\n",
                "* <https://github.com/entwanne/presentation_python_plongee_asynchrone>"
            ]
        },
        {
            "cell_type": "markdown",
            "metadata": {
                "scrolled": true,
                "slideshow": {
                    "slide_type": "slide"
                }
            },
            "source": [
                "# Un monde de coroutines"
            ]
        },
        {
            "cell_type": "markdown",
            "metadata": {
                "scrolled": true,
                "slideshow": {
                    "slide_type": "subslide"
                }
            },
            "source": [
                "## Coroutines\n",
                "\n",
                "* D\u00e9finition d'une coroutine depuis Python 3.5\u00a0:"
            ]
        },
        {
            "cell_type": "code",
            "metadata": {
                "scrolled": true,
                "slideshow": {
                    "slide_type": "-"
                }
            },
            "source": [
                "async def simple_print(msg):\n",
                "    print(msg)"
            ],
            "outputs": [],
            "execution_count": null
        },
        {
            "cell_type": "markdown",
            "metadata": {
                "scrolled": true,
                "slideshow": {
                    "slide_type": "fragment"
                }
            },
            "source": [
                "* `simple_print` est une fonction renvoyant une coroutine"
            ]
        },
        {
            "cell_type": "code",
            "metadata": {
                "scrolled": true,
                "slideshow": {
                    "slide_type": "-"
                }
            },
            "source": [
                "simple_print"
            ],
            "outputs": [],
            "execution_count": null
        },
        {
            "cell_type": "code",
            "metadata": {
                "scrolled": true,
                "slideshow": {
                    "slide_type": "-"
                }
            },
            "source": [
                "simple_print('Hello')"
            ],
            "outputs": [],
            "execution_count": null
        },
        {
            "cell_type": "markdown",
            "metadata": {
                "scrolled": true,
                "slideshow": {
                    "slide_type": "subslide"
                }
            },
            "source": [
                "## Coroutines\n",
                "\n",
                "* Le contenu est ex\u00e9cut\u00e9 par le moteur asynchrone, ici \u00e0 l'aide d'`await`"
            ]
        },
        {
            "cell_type": "code",
            "metadata": {
                "scrolled": true,
                "slideshow": {
                    "slide_type": "-"
                }
            },
            "source": [
                "await simple_print('Hello')"
            ],
            "outputs": [],
            "execution_count": null
        },
        {
            "cell_type": "markdown",
            "metadata": {
                "scrolled": true,
                "slideshow": {
                    "slide_type": "fragment"
                }
            },
            "source": [
                "* En dehors d'un *REPL* asynchrone, il faudrait utiliser `asyncio.run`"
            ]
        },
        {
            "cell_type": "code",
            "metadata": {
                "scrolled": true,
                "slideshow": {
                    "slide_type": "-"
                }
            },
            "source": [
                "asyncio.run(simple_print('Hello'))"
            ],
            "outputs": [],
            "execution_count": null
        },
        {
            "cell_type": "markdown",
            "metadata": {
                "scrolled": true,
                "slideshow": {
                    "slide_type": "-"
                }
            },
            "source": [
                "* Ou encore interagir directement avec la boucle \u00e9v\u00e9nementielle\u00a0:"
            ]
        },
        {
            "cell_type": "code",
            "metadata": {
                "scrolled": true,
                "slideshow": {
                    "slide_type": "-"
                }
            },
            "source": [
                "loop = asyncio.new_event_loop()\n",
                "loop.run_until_complete(simple_print('Hello'))"
            ],
            "outputs": [],
            "execution_count": null
        },
        {
            "cell_type": "markdown",
            "metadata": {
                "scrolled": true,
                "slideshow": {
                    "slide_type": "fragment"
                }
            },
            "source": [
                "* Cette boucle ex\u00e9cute et cadence les diff\u00e9rentes t\u00e2ches\n",
                "* Elle permet une utilisation concurrente"
            ]
        },
        {
            "cell_type": "markdown",
            "metadata": {
                "scrolled": true,
                "slideshow": {
                    "slide_type": "subslide"
                }
            },
            "source": [
                "## Coroutines - introspection\n",
                "\n",
                "* De quoi est faite une coroutine\u00a0?"
            ]
        },
        {
            "cell_type": "markdown",
            "metadata": {
                "scrolled": true,
                "slideshow": {
                    "slide_type": "fragment"
                }
            },
            "source": [
                "* C'est un objet avec une m\u00e9thode `__await__`"
            ]
        },
        {
            "cell_type": "code",
            "metadata": {
                "scrolled": true,
                "slideshow": {
                    "slide_type": "-"
                }
            },
            "source": [
                "coro = simple_print('Hello')\n",
                "dir(coro)"
            ],
            "outputs": [],
            "execution_count": null
        },
        {
            "cell_type": "markdown",
            "metadata": {
                "scrolled": true,
                "slideshow": {
                    "slide_type": "subslide"
                }
            },
            "source": [
                "## Coroutines - introspection\n",
                "\n",
                "* Cette m\u00e9thode renvoie un it\u00e9rateur (`coroutine_wrapper`)"
            ]
        },
        {
            "cell_type": "code",
            "metadata": {
                "scrolled": true,
                "slideshow": {
                    "slide_type": "-"
                }
            },
            "source": [
                "aw = coro.__await__()\n",
                "aw"
            ],
            "outputs": [],
            "execution_count": null
        },
        {
            "cell_type": "code",
            "metadata": {
                "scrolled": true,
                "slideshow": {
                    "slide_type": "-"
                }
            },
            "source": [
                "dir(aw)"
            ],
            "outputs": [],
            "execution_count": null
        },
        {
            "cell_type": "markdown",
            "metadata": {
                "scrolled": true,
                "slideshow": {
                    "slide_type": "subslide"
                }
            },
            "source": [
                "## Coroutines - it\u00e9ration\n",
                "\n",
                "* On peut donc it\u00e9rer manuellement sur une coroutine"
            ]
        },
        {
            "cell_type": "code",
            "metadata": {
                "scrolled": true,
                "slideshow": {
                    "slide_type": "-"
                }
            },
            "source": [
                "for _ in simple_print('Hello').__await__():\n",
                "    pass"
            ],
            "outputs": [],
            "execution_count": null
        },
        {
            "cell_type": "markdown",
            "metadata": {
                "scrolled": true,
                "slideshow": {
                    "slide_type": "subslide"
                }
            },
            "source": [
                "## Coroutines - it\u00e9ration\n",
                "\n",
                "* De m\u00eame avec une coroutine plus complexe"
            ]
        },
        {
            "cell_type": "code",
            "metadata": {
                "scrolled": true,
                "slideshow": {
                    "slide_type": "-"
                }
            },
            "source": [
                "async def complex_work():\n",
                "    await simple_print('Hello')\n",
                "    await asyncio.sleep(0)\n",
                "    await simple_print('World')\n",
                "\n",
                "\n",
                "for _ in complex_work().__await__():\n",
                "    pass"
            ],
            "outputs": [],
            "execution_count": null
        },
        {
            "cell_type": "markdown",
            "metadata": {
                "scrolled": true,
                "slideshow": {
                    "slide_type": "subslide"
                }
            },
            "source": [
                "## Coroutines - it\u00e9ration\n",
                "\n",
                "* Plusieurs it\u00e9rations sont bien parcourues"
            ]
        },
        {
            "cell_type": "code",
            "metadata": {
                "scrolled": true,
                "slideshow": {
                    "slide_type": "-"
                }
            },
            "source": [
                "it = complex_work().__await__()\n",
                "next(it)"
            ],
            "outputs": [],
            "execution_count": null
        },
        {
            "cell_type": "code",
            "metadata": {
                "scrolled": true,
                "slideshow": {
                    "slide_type": "-"
                }
            },
            "source": [
                "next(it)"
            ],
            "outputs": [],
            "execution_count": null
        },
        {
            "cell_type": "markdown",
            "metadata": {
                "scrolled": true,
                "slideshow": {
                    "slide_type": "fragment"
                }
            },
            "source": [
                "* La boucle reprend le contr\u00f4le \u00e0 chaque interruption\n",
                "* Le `await asyncio.sleep(0)` a pour effet de `yield`\n",
                "* `await` est \u00e9quivalent \u00e0 `yield from`"
            ]
        },
        {
            "cell_type": "markdown",
            "metadata": {
                "scrolled": true,
                "slideshow": {
                    "slide_type": "slide"
                }
            },
            "source": [
                "# Attendez-moi\u00a0!"
            ]
        },
        {
            "cell_type": "markdown",
            "metadata": {
                "scrolled": true,
                "slideshow": {
                    "slide_type": "subslide"
                }
            },
            "source": [
                "## Awaitables\n",
                "\n",
                "* Les coroutines sont des t\u00e2ches asynchrones (*awaitables*)\n",
                "* Un awaitable est un objet avec une m\u00e9thode `__await__`"
            ]
        },
        {
            "cell_type": "markdown",
            "metadata": {
                "scrolled": true,
                "slideshow": {
                    "slide_type": "fragment"
                }
            },
            "source": [
                "* T\u00e2che \u00e9quivalente \u00e0 la coroutine `complex_work`\u00a0:"
            ]
        },
        {
            "cell_type": "code",
            "metadata": {
                "scrolled": true,
                "slideshow": {
                    "slide_type": "-"
                }
            },
            "source": [
                "class ComplexWork:\n",
                "    def __await__(self):\n",
                "        print('Hello')\n",
                "        yield\n",
                "        print('World')"
            ],
            "outputs": [],
            "execution_count": null
        },
        {
            "cell_type": "markdown",
            "metadata": {
                "scrolled": true,
                "slideshow": {
                    "slide_type": "-"
                }
            },
            "source": [
                "* Le `yield` rend la m\u00e9thode g\u00e9n\u00e9ratrice, qui renvoie donc un it\u00e9rateur"
            ]
        },
        {
            "cell_type": "code",
            "metadata": {
                "scrolled": true,
                "slideshow": {
                    "slide_type": "-"
                }
            },
            "source": [
                "await ComplexWork()"
            ],
            "outputs": [],
            "execution_count": null
        },
        {
            "cell_type": "markdown",
            "metadata": {
                "scrolled": true,
                "slideshow": {
                    "slide_type": "subslide"
                }
            },
            "source": [
                "## Awaitables - it\u00e9ration\n",
                "\n",
                "* Notre t\u00e2che respecte le protocole \u00e9tabli"
            ]
        },
        {
            "cell_type": "code",
            "metadata": {
                "scrolled": true,
                "slideshow": {
                    "slide_type": "-"
                }
            },
            "source": [
                "it = ComplexWork().__await__()\n",
                "next(it)"
            ],
            "outputs": [],
            "execution_count": null
        },
        {
            "cell_type": "code",
            "metadata": {
                "scrolled": true,
                "slideshow": {
                    "slide_type": "-"
                }
            },
            "source": [
                "next(it)"
            ],
            "outputs": [],
            "execution_count": null
        },
        {
            "cell_type": "markdown",
            "metadata": {
                "scrolled": true,
                "slideshow": {
                    "slide_type": "subslide"
                }
            },
            "source": [
                "## Awaitables\n",
                "\n",
                "* Les t\u00e2ches autres que les coroutines sont peu courantes\n",
                "* Mais sont utiles pour conserver un \u00e9tat associ\u00e9 \u00e0 la t\u00e2che"
            ]
        },
        {
            "cell_type": "code",
            "metadata": {
                "scrolled": true,
                "slideshow": {
                    "slide_type": "-"
                }
            },
            "source": [
                "class Waiter:\n",
                "    def __init__(self):\n",
                "        self.done = False\n",
                "\n",
                "    def __await__(self):\n",
                "        while not self.done:\n",
                "            yield"
            ],
            "outputs": [],
            "execution_count": null
        },
        {
            "cell_type": "markdown",
            "metadata": {
                "scrolled": true,
                "slideshow": {
                    "slide_type": "subslide"
                }
            },
            "source": [
                "## Awaitables - synchronisation\n",
                "\n",
                "* `Waiter` permet \u00e0 deux t\u00e2ches de se synchroniser"
            ]
        },
        {
            "cell_type": "code",
            "metadata": {
                "scrolled": true,
                "slideshow": {
                    "slide_type": "-"
                }
            },
            "source": [
                "waiter = Waiter()\n",
                "\n",
                "async def wait_job(waiter):\n",
                "    print('start')\n",
                "    await waiter # wait for count_up_to to be finished\n",
                "    print('finished')\n",
                "\n",
                "async def count_up_to(waiter, n):\n",
                "    for i in range(n):\n",
                "        print(i)\n",
                "        await asyncio.sleep(0)\n",
                "    waiter.done = True\n",
                "\n",
                "await asyncio.gather(wait_job(waiter), count_up_to(waiter, 10))"
            ],
            "outputs": [],
            "execution_count": null
        },
        {
            "cell_type": "markdown",
            "metadata": {
                "scrolled": true,
                "slideshow": {
                    "slide_type": "slide"
                }
            },
            "source": [
                "# Boucle d'or et les trois t\u00e2ches"
            ]
        },
        {
            "cell_type": "markdown",
            "metadata": {
                "scrolled": true,
                "slideshow": {
                    "slide_type": "subslide"
                }
            },
            "source": [
                "## Boucles \u00e9v\u00e9nementielles\n",
                "\n",
                "* Premier prototype de boucle \u00e9v\u00e9nementielle"
            ]
        },
        {
            "cell_type": "code",
            "metadata": {
                "scrolled": true,
                "slideshow": {
                    "slide_type": "-"
                }
            },
            "source": [
                "def run_task(task):\n",
                "    it = task.__await__()\n",
                "\n",
                "    while True:\n",
                "        try:\n",
                "            next(it)\n",
                "        except StopIteration:\n",
                "            break"
            ],
            "outputs": [],
            "execution_count": null
        },
        {
            "cell_type": "markdown",
            "metadata": {
                "scrolled": true,
                "slideshow": {
                    "slide_type": "subslide"
                }
            },
            "source": [
                "## Boucles \u00e9venementielles\n",
                "\n",
                "* Peu d'utilit\u00e9 pour n'ex\u00e9cuter qu'une seule t\u00e2che\n",
                "* Version am\u00e9lior\u00e9e pouvant cadencer plusieurs t\u00e2ches\n",
                "* Utilisation d'une file pour conna\u00eetre la procha\u00eene t\u00e2che \u00e0 it\u00e9rer"
            ]
        },
        {
            "cell_type": "code",
            "metadata": {
                "scrolled": true,
                "slideshow": {
                    "slide_type": "-"
                }
            },
            "source": [
                "def run_tasks(*tasks):\n",
                "    tasks = [task.__await__() for task in tasks]\n",
                "\n",
                "    while tasks:\n",
                "        # On prend la premi\u00e8re t\u00e2che disponible\n",
                "        task = tasks.pop(0)\n",
                "        try:\n",
                "            next(task)\n",
                "        except StopIteration:\n",
                "            # La t\u00e2che est termin\u00e9e\n",
                "            pass\n",
                "        else:\n",
                "            # La t\u00e2che continue, on la remet en queue de liste\n",
                "            tasks.append(task)"
            ],
            "outputs": [],
            "execution_count": null
        },
        {
            "cell_type": "markdown",
            "metadata": {
                "scrolled": true,
                "slideshow": {
                    "slide_type": "subslide"
                }
            },
            "source": [
                "## Boucles \u00e9venementielles - ex\u00e9cution\n",
                "\n",
                "* Quelques exemples d'ex\u00e9cution concurrente"
            ]
        },
        {
            "cell_type": "code",
            "metadata": {
                "scrolled": true,
                "slideshow": {
                    "slide_type": "-"
                }
            },
            "source": [
                "run_tasks(simple_print(1), ComplexWork(), simple_print(2), simple_print(3))"
            ],
            "outputs": [],
            "execution_count": null
        },
        {
            "cell_type": "code",
            "metadata": {
                "scrolled": true,
                "slideshow": {
                    "slide_type": "-"
                }
            },
            "source": [
                "waiter = Waiter()\n",
                "run_tasks(wait_job(waiter), count_up_to(waiter, 5))"
            ],
            "outputs": [],
            "execution_count": null
        },
        {
            "cell_type": "markdown",
            "metadata": {
                "scrolled": true,
                "slideshow": {
                    "slide_type": "subslide"
                }
            },
            "source": [
                "## Environnement asynchrone\n",
                "\n",
                "* T\u00e2che unitaire simple pour rendre la main \u00e0 la boucle"
            ]
        },
        {
            "cell_type": "code",
            "metadata": {
                "scrolled": true,
                "slideshow": {
                    "slide_type": "-"
                }
            },
            "source": [
                "class interrupt:\n",
                "    def __await__(self):\n",
                "        yield"
            ],
            "outputs": [],
            "execution_count": null
        },
        {
            "cell_type": "markdown",
            "metadata": {
                "scrolled": true,
                "slideshow": {
                    "slide_type": "fragment"
                }
            },
            "source": [
                "* Qui nous permet de d\u00e9velopper d'autres utilitaires"
            ]
        },
        {
            "cell_type": "code",
            "metadata": {
                "scrolled": true,
                "slideshow": {
                    "slide_type": "-"
                }
            },
            "source": [
                "import time\n",
                "\n",
                "async def sleep_until(t):\n",
                "    while time.time() < t:\n",
                "        await interrupt()\n",
                "\n",
                "async def sleep(duration):\n",
                "    await sleep_until(time.time() + duration)"
            ],
            "outputs": [],
            "execution_count": null
        },
        {
            "cell_type": "markdown",
            "metadata": {
                "scrolled": true,
                "slideshow": {
                    "slide_type": "subslide"
                }
            },
            "source": [
                "## Environnement asynchrone - exemple\n",
                "\n",
                "* Et d'en profiter dans notre environnement"
            ]
        },
        {
            "cell_type": "code",
            "metadata": {
                "scrolled": true,
                "slideshow": {
                    "slide_type": "-"
                }
            },
            "source": [
                "async def print_messages(*messages, sleep_time=1):\n",
                "    for msg in messages:\n",
                "        print(msg)\n",
                "        await sleep(sleep_time)"
            ],
            "outputs": [],
            "execution_count": null
        },
        {
            "cell_type": "code",
            "metadata": {
                "scrolled": true,
                "slideshow": {
                    "slide_type": "-"
                }
            },
            "source": [
                "run_tasks(print_messages('foo', 'bar', 'baz'),\n",
                "    print_messages('aaa', 'bbb', 'ccc', sleep_time=0.7))"
            ],
            "outputs": [],
            "execution_count": null
        },
        {
            "cell_type": "markdown",
            "metadata": {
                "scrolled": true,
                "slideshow": {
                    "slide_type": "subslide"
                }
            },
            "source": [
                "## Boucles \u00e9v\u00e9nementielles - interactions\n",
                "\n",
                "* Une boucle \u00e9v\u00e9nementielle est plus utile si nous pouvons interagir avec elle une fois lanc\u00e9e\n",
                "* Prototype d'une nouvelle boucle pouvant programmer des t\u00e2ches \u00e0 la vol\u00e9e (`add_task`)"
            ]
        },
        {
            "cell_type": "code",
            "metadata": {
                "scrolled": true,
                "slideshow": {
                    "slide_type": "-"
                }
            },
            "source": [
                "class Loop:\n",
                "    def __init__(self):\n",
                "        self.tasks = []\n",
                "\n",
                "    def add_task(self, task):\n",
                "        if hasattr(task, '__await__'):\n",
                "            task = task.__await__()\n",
                "        self.tasks.append(task)\n",
                "\n",
                "    def run(self):\n",
                "        while self.tasks:\n",
                "            task = self.tasks.pop(0)\n",
                "            try:\n",
                "                next(task)\n",
                "            except StopIteration:\n",
                "                pass\n",
                "            else:\n",
                "                self.add_task(task)"
            ],
            "outputs": [],
            "execution_count": null
        },
        {
            "cell_type": "markdown",
            "metadata": {
                "scrolled": true,
                "slideshow": {
                    "slide_type": "subslide"
                }
            },
            "source": [
                "## Boucles \u00e9v\u00e9nementielles - interactions\n",
                "\n",
                "* Ajout d'une m\u00e9thode pour faciliter le lancement"
            ]
        },
        {
            "cell_type": "code",
            "metadata": {
                "scrolled": true,
                "slideshow": {
                    "slide_type": "-"
                }
            },
            "source": [
                "class Loop:\n",
                "    [...]\n",
                "\n",
                "    def run_task(self, task):\n",
                "        self.add_task(task)\n",
                "        self.run()"
            ],
            "outputs": [],
            "execution_count": null
        },
        {
            "cell_type": "code",
            "metadata": {
                "scrolled": true,
                "slideshow": {
                    "slide_type": "-"
                }
            },
            "source": [
                "loop = Loop()\n",
                "loop.run_task(print_messages('foo', 'bar', 'baz'))"
            ],
            "outputs": [],
            "execution_count": null
        },
        {
            "cell_type": "markdown",
            "metadata": {
                "scrolled": true,
                "slideshow": {
                    "slide_type": "subslide"
                }
            },
            "source": [
                "## Boucles \u00e9v\u00e9nementielles - interactions\n",
                "\n",
                "* Ajout de `Loop.current` pour rendre la boucle accessible depuis nos t\u00e2ches"
            ]
        },
        {
            "cell_type": "code",
            "metadata": {
                "scrolled": true,
                "slideshow": {
                    "slide_type": "-"
                }
            },
            "source": [
                "class Loop:\n",
                "    [...]\n",
                "\n",
                "    current = None\n",
                "\n",
                "    def run(self):\n",
                "        Loop.current = self\n",
                "        while self.tasks:\n",
                "            task = self.tasks.pop(0)\n",
                "            try:\n",
                "                next(task)\n",
                "            except StopIteration:\n",
                "                pass\n",
                "            else:\n",
                "                self.add_task(task)"
            ],
            "outputs": [],
            "execution_count": null
        },
        {
            "cell_type": "markdown",
            "metadata": {
                "scrolled": true,
                "slideshow": {
                    "slide_type": "subslide"
                }
            },
            "source": [
                "## Boucles \u00e9v\u00e9nementielles - utilitaires\n",
                "\n",
                "* Impl\u00e9mentation de `gather`, utilitaire permettant d'attendre simultan\u00e9ment plusieurs t\u00e2ches\n",
                "\n",
                "* Am\u00e9lioration de notre classe `Waiter` pour attendre plusieurs validations"
            ]
        },
        {
            "cell_type": "code",
            "metadata": {
                "scrolled": true,
                "slideshow": {
                    "slide_type": "-"
                }
            },
            "source": [
                "class Waiter:\n",
                "    def __init__(self, n=1):\n",
                "        self.i = n\n",
                "\n",
                "    def set(self):\n",
                "        self.i -= 1\n",
                "\n",
                "    def __await__(self):\n",
                "        while self.i > 0:\n",
                "            yield"
            ],
            "outputs": [],
            "execution_count": null
        },
        {
            "cell_type": "markdown",
            "metadata": {
                "scrolled": true,
                "slideshow": {
                    "slide_type": "subslide"
                }
            },
            "source": [
                "## Boucles \u00e9v\u00e9nementielles - utilitaires\n",
                "\n",
                "* Utilis\u00e9e par `gather` pour attendre `N` t\u00e2ches"
            ]
        },
        {
            "cell_type": "code",
            "metadata": {
                "scrolled": true,
                "slideshow": {
                    "slide_type": "-"
                }
            },
            "source": [
                "async def gather(*tasks):\n",
                "    waiter = Waiter(len(tasks))\n",
                "\n",
                "    async def task_wrapper(task):\n",
                "        await task\n",
                "        waiter.set()\n",
                "\n",
                "    for t in tasks:\n",
                "        Loop.current.add_task(task_wrapper(t))\n",
                "    await waiter"
            ],
            "outputs": [],
            "execution_count": null
        },
        {
            "cell_type": "code",
            "metadata": {
                "scrolled": true,
                "slideshow": {
                    "slide_type": "-"
                }
            },
            "source": [
                "loop = Loop()\n",
                "loop.run_task(gather(print_messages('foo', 'bar', 'baz'),\n",
                "    print_messages('aaa', 'bbb', 'ccc', sleep_time=0.7)))"
            ],
            "outputs": [],
            "execution_count": null
        },
        {
            "cell_type": "markdown",
            "metadata": {
                "scrolled": true,
                "slideshow": {
                    "slide_type": "subslide"
                }
            },
            "source": [
                "## Boucles \u00e9v\u00e9nementielles - utilitaires r\u00e9seau\n",
                "\n",
                "* Autre utilitaire\u00a0: gestion de _sockets_ asynchrones\n",
                "* Utilisation de `select` pour savoir quand la _socket_ est disponible\n",
                "* Renvoi \u00e0 la boucle \u00e9v\u00e9nementielle le cas \u00e9ch\u00e9ant"
            ]
        },
        {
            "cell_type": "markdown",
            "metadata": {
                "scrolled": true,
                "slideshow": {
                    "slide_type": "subslide"
                }
            },
            "source": [
                "## Boucles \u00e9v\u00e9nementielles - utilitaires r\u00e9seau"
            ]
        },
        {
            "cell_type": "code",
            "metadata": {
                "scrolled": true,
                "slideshow": {
                    "slide_type": "-"
                }
            },
            "source": [
                "import select\n",
                "\n",
                "class AIOSocket:\n",
                "    def __init__(self, socket):\n",
                "        self.socket = socket\n",
                "        self.pollin = select.epoll()\n",
                "        self.pollin.register(self, select.EPOLLIN)\n",
                "        self.pollout = select.epoll()\n",
                "        self.pollout.register(self, select.EPOLLOUT)\n",
                "\n",
                "    def close(self):\n",
                "        self.socket.close()\n",
                "\n",
                "    def fileno(self):\n",
                "        return self.socket.fileno()\n",
                "\n",
                "    def __enter__(self):\n",
                "        return self\n",
                "\n",
                "    def __exit__(self, *args):\n",
                "        self.socket.close()"
            ],
            "outputs": [],
            "execution_count": null
        },
        {
            "cell_type": "markdown",
            "metadata": {
                "scrolled": true,
                "slideshow": {
                    "slide_type": "subslide"
                }
            },
            "source": [
                "## Boucles \u00e9v\u00e9nementielles - utilitaires r\u00e9seau"
            ]
        },
        {
            "cell_type": "code",
            "metadata": {
                "scrolled": true,
                "slideshow": {
                    "slide_type": "-"
                }
            },
            "source": [
                "class AIOSocket:\n",
                "    [...]\n",
                "\n",
                "    async def bind(self, addr):\n",
                "        while not self.pollin.poll():\n",
                "            await interrupt()\n",
                "        self.socket.bind(addr)\n",
                "\n",
                "    async def listen(self):\n",
                "        while not self.pollin.poll():\n",
                "            await interrupt()\n",
                "        self.socket.listen()\n",
                "\n",
                "    async def connect(self, addr):\n",
                "        while not self.pollin.poll():\n",
                "            await interrupt()\n",
                "        self.socket.connect(addr)"
            ],
            "outputs": [],
            "execution_count": null
        },
        {
            "cell_type": "markdown",
            "metadata": {
                "scrolled": true,
                "slideshow": {
                    "slide_type": "subslide"
                }
            },
            "source": [
                "## Boucles \u00e9v\u00e9nementielles - utilitaires r\u00e9seau"
            ]
        },
        {
            "cell_type": "code",
            "metadata": {
                "scrolled": true,
                "slideshow": {
                    "slide_type": "-"
                }
            },
            "source": [
                "class AIOSocket:\n",
                "    [...]\n",
                "\n",
                "    async def accept(self):\n",
                "        while not self.pollin.poll(0):\n",
                "            await interrupt()\n",
                "        client, _ = self.socket.accept()\n",
                "        return self.__class__(client)\n",
                "\n",
                "    async def recv(self, bufsize):\n",
                "        while not self.pollin.poll(0):\n",
                "            await interrupt()\n",
                "        return self.socket.recv(bufsize)\n",
                "\n",
                "    async def send(self, bytes):\n",
                "        while not self.pollout.poll(0):\n",
                "            await interrupt()\n",
                "        return self.socket.send(bytes)"
            ],
            "outputs": [],
            "execution_count": null
        },
        {
            "cell_type": "markdown",
            "metadata": {
                "scrolled": true,
                "slideshow": {
                    "slide_type": "subslide"
                }
            },
            "source": [
                "## Boucles \u00e9v\u00e9nementielles - utilitaires r\u00e9seau"
            ]
        },
        {
            "cell_type": "code",
            "metadata": {
                "scrolled": true,
                "slideshow": {
                    "slide_type": "-"
                }
            },
            "source": [
                "import socket\n",
                "\n",
                "def aiosocket(family=socket.AF_INET, type=socket.SOCK_STREAM, proto=0, fileno=None):\n",
                "    return AIOSocket(socket.socket(family, type, proto, fileno))"
            ],
            "outputs": [],
            "execution_count": null
        },
        {
            "cell_type": "markdown",
            "metadata": {
                "scrolled": true,
                "slideshow": {
                    "slide_type": "subslide"
                }
            },
            "source": [
                "## Boucles \u00e9v\u00e9nementielles - utilitaires r\u00e9seau"
            ]
        },
        {
            "cell_type": "code",
            "metadata": {
                "scrolled": true,
                "slideshow": {
                    "slide_type": "-"
                }
            },
            "source": [
                "async def server_coro():\n",
                "    with aiosocket() as server:\n",
                "        await server.bind(('localhost', 8080))\n",
                "        await server.listen()\n",
                "        with await server.accept() as client:\n",
                "            msg = await client.recv(1024)\n",
                "            print('Received from client', msg)\n",
                "            await client.send(msg[::-1])\n",
                "\n",
                "async def client_coro():\n",
                "    with aiosocket() as client:\n",
                "        await client.connect(('localhost', 8080))\n",
                "        await client.send(b'Hello World!')\n",
                "        msg = await client.recv(1024)\n",
                "        print('Received from server', msg)\n",
                "\n",
                "loop = Loop()\n",
                "loop.run_task(gather(server_coro(), client_coro()))"
            ],
            "outputs": [],
            "execution_count": null
        },
        {
            "cell_type": "markdown",
            "metadata": {
                "scrolled": true,
                "slideshow": {
                    "slide_type": "slide"
                }
            },
            "source": [
                "# No Future"
            ]
        },
        {
            "cell_type": "markdown",
            "metadata": {
                "scrolled": true,
                "slideshow": {
                    "slide_type": "subslide"
                }
            },
            "source": [
                "## Futures\n",
                "\n",
                "* L'impl\u00e9mentation pr\u00e9c\u00e9dente de `sleep` est inefficace\n",
                "* La t\u00e2che est sans cesse reprogramm\u00e9e pour rien\n",
                "* De m\u00eame pour la t\u00e2che `Waiter` qui n'a besoin d'\u00eatre lanc\u00e9e qu'une fois sa condition valid\u00e9e"
            ]
        },
        {
            "cell_type": "markdown",
            "metadata": {
                "scrolled": true,
                "slideshow": {
                    "slide_type": "subslide"
                }
            },
            "source": [
                "## Futures - asyncio\n",
                "\n",
                "* `asyncio` utilise un m\u00e9canisme de _futures_\u00a0:"
            ]
        },
        {
            "cell_type": "code",
            "metadata": {
                "scrolled": true,
                "slideshow": {
                    "slide_type": "-"
                }
            },
            "source": [
                "async def test():\n",
                "    await asyncio.sleep(1)\n",
                "\n",
                "loop = Loop()\n",
                "loop.run_task(test())"
            ],
            "outputs": [],
            "execution_count": null
        },
        {
            "cell_type": "markdown",
            "metadata": {
                "scrolled": true,
                "slideshow": {
                    "slide_type": "fragment"
                }
            },
            "source": [
                "* Le `yield` utilis\u00e9 pour rendre la main \u00e0 la boucle peut \u00eatre accompagn\u00e9 d'une valeur"
            ]
        },
        {
            "cell_type": "markdown",
            "metadata": {
                "scrolled": true,
                "slideshow": {
                    "slide_type": "subslide"
                }
            },
            "source": [
                "## Futures - exemple\n",
                "\n",
                "* Cette _future_ ne doit \u00eatre relanc\u00e9e qu'une fois sa condition valid\u00e9e"
            ]
        },
        {
            "cell_type": "code",
            "metadata": {
                "scrolled": true,
                "slideshow": {
                    "slide_type": "-"
                }
            },
            "source": [
                "class Future:\n",
                "    def __await__(self):\n",
                "        yield self\n",
                "        assert self.done"
            ],
            "outputs": [],
            "execution_count": null
        },
        {
            "cell_type": "markdown",
            "metadata": {
                "scrolled": true,
                "slideshow": {
                    "slide_type": "subslide"
                }
            },
            "source": [
                "## Futures - exemple\n",
                "\n",
                "* On ajoute une m\u00e9thode de validation qui reprogramme la t\u00e2che"
            ]
        },
        {
            "cell_type": "code",
            "metadata": {
                "scrolled": true,
                "slideshow": {
                    "slide_type": "-"
                }
            },
            "source": [
                "class Future:\n",
                "    def __init__(self):\n",
                "        self._done = False\n",
                "        self.task = None\n",
                "\n",
                "    def __await__(self):\n",
                "        yield self\n",
                "        assert self._done\n",
                "\n",
                "    def set(self):\n",
                "        self._done = True\n",
                "        if self.task is not None:\n",
                "            Loop.current.add_task(self.task)"
            ],
            "outputs": [],
            "execution_count": null
        },
        {
            "cell_type": "markdown",
            "metadata": {
                "scrolled": true,
                "slideshow": {
                    "slide_type": "subslide"
                }
            },
            "source": [
                "## Futures - boucle \u00e9v\u00e9nementielle\n",
                "\n",
                "* D\u00e9tection des _futures_ par la boucle \u00e9v\u00e9nementielle"
            ]
        },
        {
            "cell_type": "code",
            "metadata": {
                "scrolled": true,
                "slideshow": {
                    "slide_type": "-"
                }
            },
            "source": [
                "class Loop:\n",
                "    [...]\n",
                "\n",
                "    def run(self):\n",
                "        Loop.current = self\n",
                "        while self.tasks:\n",
                "            task = self.tasks.pop(0)\n",
                "            try:\n",
                "                result = next(task)\n",
                "            except StopIteration:\n",
                "                continue\n",
                "\n",
                "            if isinstance(result, Future):\n",
                "                result.task = task\n",
                "            else:\n",
                "                self.tasks.append(task)"
            ],
            "outputs": [],
            "execution_count": null
        },
        {
            "cell_type": "markdown",
            "metadata": {
                "scrolled": true,
                "slideshow": {
                    "slide_type": "subslide"
                }
            },
            "source": [
                "## Futures - \u00e9v\u00e9nements temporels\n",
                "\n",
                "* L'id\u00e9e est d'associer une _future_ \u00e0 un temps\n",
                "* On int\u00e8gre pour cela une gestion d'\u00e9v\u00e9n\u00e9ments temporels"
            ]
        },
        {
            "cell_type": "code",
            "metadata": {
                "scrolled": true,
                "slideshow": {
                    "slide_type": "-"
                }
            },
            "source": [
                "from functools import total_ordering\n",
                "\n",
                "@total_ordering\n",
                "class TimeEvent:\n",
                "    def __init__(self, t, future):\n",
                "        self.t = t\n",
                "        self.future = future\n",
                "\n",
                "    def __eq__(self, rhs):\n",
                "        return self.t == rhs.t\n",
                "\n",
                "    def __lt__(self, rhs):\n",
                "        return self.t < rhs"
            ],
            "outputs": [],
            "execution_count": null
        },
        {
            "cell_type": "markdown",
            "metadata": {
                "scrolled": true,
                "slideshow": {
                    "slide_type": "subslide"
                }
            },
            "source": [
                "## Futures - \u00e9v\u00e9nements temporels\n",
                "\n",
                "* Ajout d'une m\u00e9thode `call_later`"
            ]
        },
        {
            "cell_type": "code",
            "metadata": {
                "scrolled": true,
                "slideshow": {
                    "slide_type": "-"
                }
            },
            "source": [
                "import heapq\n",
                "\n",
                "class Loop:\n",
                "    [...]\n",
                "\n",
                "    handlers = []\n",
                "\n",
                "    def call_later(self, t, future):\n",
                "        heapq.heappush(self.handlers, TimeEvent(t, future))"
            ],
            "outputs": [],
            "execution_count": null
        },
        {
            "cell_type": "markdown",
            "metadata": {
                "scrolled": true,
                "slideshow": {
                    "slide_type": "subslide"
                }
            },
            "source": [
                "## Futures - \u00e9v\u00e9nements temporels\n",
                "\n",
                "* Prise en compte des \u00e9v\u00e9nements temporels par la boucle"
            ]
        },
        {
            "cell_type": "code",
            "metadata": {
                "scrolled": true,
                "slideshow": {
                    "slide_type": "-"
                }
            },
            "source": [
                "class Loop:\n",
                "    [...]\n",
                "\n",
                "    def run(self):\n",
                "        Loop.current = self\n",
                "        while self.tasks or self.handlers:\n",
                "            if self.handlers and self.handlers[0].t <= time.time():\n",
                "                handler = heapq.heappop(self.handlers)\n",
                "                handler.future.set()\n",
                "\n",
                "            if not self.tasks:\n",
                "                continue\n",
                "            task = self.tasks.pop(0)\n",
                "            try:\n",
                "                result = next(task)\n",
                "            except StopIteration:\n",
                "                continue\n",
                "\n",
                "            if isinstance(result, Future):\n",
                "                result.task = task\n",
                "            else:\n",
                "                self.tasks.append(task)"
            ],
            "outputs": [],
            "execution_count": null
        },
        {
            "cell_type": "markdown",
            "metadata": {
                "scrolled": true,
                "slideshow": {
                    "slide_type": "subslide"
                }
            },
            "source": [
                "## Futures - utilitaires\n",
                "\n",
                "* Ce qui nous permet une meilleure version de `sleep`"
            ]
        },
        {
            "cell_type": "code",
            "metadata": {
                "scrolled": true,
                "slideshow": {
                    "slide_type": "-"
                }
            },
            "source": [
                "import time\n",
                "\n",
                "async def sleep(t):\n",
                "    future = Future()\n",
                "    Loop.current.call_later(time.time() + t, future)\n",
                "    await future"
            ],
            "outputs": [],
            "execution_count": null
        },
        {
            "cell_type": "code",
            "metadata": {
                "scrolled": true,
                "slideshow": {
                    "slide_type": "-"
                }
            },
            "source": [
                "async def foo():\n",
                "    print('before')\n",
                "    await sleep(5)\n",
                "    print('after')"
            ],
            "outputs": [],
            "execution_count": null
        },
        {
            "cell_type": "code",
            "metadata": {
                "scrolled": true,
                "slideshow": {
                    "slide_type": "-"
                }
            },
            "source": [
                "loop = Loop()\n",
                "loop.run_task(foo())"
            ],
            "outputs": [],
            "execution_count": null
        },
        {
            "cell_type": "markdown",
            "metadata": {
                "scrolled": true,
                "slideshow": {
                    "slide_type": "slide"
                }
            },
            "source": [
                "# Et pour quelques outils de plus"
            ]
        },
        {
            "cell_type": "markdown",
            "metadata": {
                "scrolled": true,
                "slideshow": {
                    "slide_type": "subslide"
                }
            },
            "source": [
                "## Autres outils\n",
                "\n",
                "* Nouveaux outils pour profiter de l'environnement asynchrone\n",
                "* Nouveaux blocs\u00a0: `for` et `with` asynchrones (`async for`, `async with`)"
            ]
        },
        {
            "cell_type": "markdown",
            "metadata": {
                "scrolled": true,
                "slideshow": {
                    "slide_type": "subslide"
                }
            },
            "source": [
                "## It\u00e9rables et g\u00e9n\u00e9rateurs asynchrones\n",
                "\n",
                "* Un it\u00e9rable asynchrone poss\u00e8de une m\u00e9thode `__aiter__` renvoyant un it\u00e9rateur asynchrone"
            ]
        },
        {
            "cell_type": "markdown",
            "metadata": {
                "scrolled": true,
                "slideshow": {
                    "slide_type": "fragment"
                }
            },
            "source": [
                "* L'it\u00e9rateur asynchrone a une m\u00e9thode-coroutine `__anext__` renvoyant le prochain \u00e9l\u00e9ment"
            ]
        },
        {
            "cell_type": "markdown",
            "metadata": {
                "scrolled": true,
                "slideshow": {
                    "slide_type": "fragment"
                }
            },
            "source": [
                "* La m\u00e9thode l\u00e8ve une exception `StopAsyncIteration` en fin d'it\u00e9ration"
            ]
        },
        {
            "cell_type": "markdown",
            "metadata": {
                "scrolled": true,
                "slideshow": {
                    "slide_type": "subslide"
                }
            },
            "source": [
                "## It\u00e9rables asynchrones\n",
                "\n",
                "* Exemple\u00a0: \u00e9quivalent asychrone \u00e0 `range`"
            ]
        },
        {
            "cell_type": "code",
            "metadata": {
                "scrolled": true,
                "slideshow": {
                    "slide_type": "-"
                }
            },
            "source": [
                "class ARange:\n",
                "    def __init__(self, stop):\n",
                "        self.stop = stop\n",
                "\n",
                "    def __aiter__(self):\n",
                "        return ARangeIterator(self)\n",
                "\n",
                "\n",
                "class ARangeIterator:\n",
                "    def __init__(self, arange):\n",
                "        self.arange = arange\n",
                "        self.i = 0\n",
                "\n",
                "    async def __anext__(self):\n",
                "        if self.i >= self.arange.stop:\n",
                "            raise StopAsyncIteration\n",
                "        await sleep(1)\n",
                "        i = self.i\n",
                "        self.i += 1\n",
                "        return i"
            ],
            "outputs": [],
            "execution_count": null
        },
        {
            "cell_type": "markdown",
            "metadata": {
                "scrolled": true,
                "slideshow": {
                    "slide_type": "subslide"
                }
            },
            "source": [
                "## It\u00e9rables asynchrones\n",
                "\n",
                "* Ex\u00e9cution au sein de notre moteur asynchrone"
            ]
        },
        {
            "cell_type": "code",
            "metadata": {
                "scrolled": true,
                "slideshow": {
                    "slide_type": "-"
                }
            },
            "source": [
                "async def test_for():\n",
                "    async for val in ARange(5):\n",
                "        print(val)\n",
                "\n",
                "loop = Loop()\n",
                "loop.run_task(test_for())"
            ],
            "outputs": [],
            "execution_count": null
        },
        {
            "cell_type": "markdown",
            "metadata": {
                "scrolled": true,
                "slideshow": {
                    "slide_type": "subslide"
                }
            },
            "source": [
                "## G\u00e9n\u00e9rateurs asynchrones\n",
                "\n",
                "* On peut de fa\u00e7on similaire d\u00e9finir un g\u00e9n\u00e9rateur asynchrone (Python 3.6)"
            ]
        },
        {
            "cell_type": "code",
            "metadata": {
                "scrolled": true,
                "slideshow": {
                    "slide_type": "-"
                }
            },
            "source": [
                "async def arange(stop):\n",
                "    for i in range(stop):\n",
                "        await sleep(1)\n",
                "        yield i"
            ],
            "outputs": [],
            "execution_count": null
        },
        {
            "cell_type": "markdown",
            "metadata": {
                "scrolled": true,
                "slideshow": {
                    "slide_type": "subslide"
                }
            },
            "source": [
                "## Gestionnaires de contexte asynchrones\n",
                "\n",
                "* Contexte asynchrone d\u00e9fini par ses m\u00e9thodes `__aenter__` et `__aexit__`"
            ]
        },
        {
            "cell_type": "code",
            "metadata": {
                "scrolled": true,
                "slideshow": {
                    "slide_type": "-"
                }
            },
            "source": [
                "class Server:\n",
                "    def __init__(self, addr):\n",
                "        self.socket = aiosocket()\n",
                "        self.addr = addr\n",
                "\n",
                "    async def __aenter__(self):\n",
                "        await self.socket.bind(self.addr)\n",
                "        await self.socket.listen()\n",
                "        return self.socket\n",
                "\n",
                "    async def __aexit__(self, *args):\n",
                "        self.socket.close()"
            ],
            "outputs": [],
            "execution_count": null
        },
        {
            "cell_type": "markdown",
            "metadata": {
                "scrolled": true,
                "slideshow": {
                    "slide_type": "subslide"
                }
            },
            "source": [
                "## Gestionnaires de contexte asynchrones\n",
                "\n",
                "* Ex\u00e9cution au sein de notre moteur asynchrone"
            ]
        },
        {
            "cell_type": "code",
            "metadata": {
                "scrolled": true,
                "slideshow": {
                    "slide_type": "-"
                }
            },
            "source": [
                "async def test_with():\n",
                "    async with Server(('localhost', 8080)) as server:\n",
                "        with await server.accept() as client:\n",
                "            msg = await client.recv(1024)\n",
                "            print('Received from client', msg)\n",
                "            await client.send(msg[::-1])\n",
                "\n",
                "loop = Loop()\n",
                "loop.run_task(gather(test_with(), client_coro()))"
            ],
            "outputs": [],
            "execution_count": null
        },
        {
            "cell_type": "markdown",
            "metadata": {
                "scrolled": true,
                "slideshow": {
                    "slide_type": "subslide"
                }
            },
            "source": [
                "## Gestionnaires de contexte asynchrones\n",
                "\n",
                "* Contextes asynchrones int\u00e9gr\u00e9s \u00e0 la `contextlib` (Python 3.7)"
            ]
        },
        {
            "cell_type": "code",
            "metadata": {
                "scrolled": true,
                "slideshow": {
                    "slide_type": "-"
                }
            },
            "source": [
                "from contextlib import asynccontextmanager\n",
                "\n",
                "@asynccontextmanager\n",
                "async def server(addr):\n",
                "    socket = aiosocket()\n",
                "    try:\n",
                "        await socket.bind(addr)\n",
                "        await socket.listen()\n",
                "        yield socket\n",
                "    finally:\n",
                "        socket.close()"
            ],
            "outputs": [],
            "execution_count": null
        },
        {
            "cell_type": "markdown",
            "metadata": {
                "scrolled": true,
                "slideshow": {
                    "slide_type": "slide"
                }
            },
            "source": [
                "# Conclusion"
            ]
        },
        {
            "cell_type": "markdown",
            "metadata": {
                "scrolled": true,
                "slideshow": {
                    "slide_type": "subslide"
                }
            },
            "source": [
                "## Conclusion\n",
                "\n",
                "* Il n'est pas question de remplacer `asyncio` par ces exemples\n",
                "* Le but est d'\u00e9tudier comment cela fonctionne"
            ]
        },
        {
            "cell_type": "markdown",
            "metadata": {
                "scrolled": true,
                "slideshow": {
                    "slide_type": "fragment"
                }
            },
            "source": [
                "* Retrouvez la pr\u00e9sentation \u00e0 l'adresse suivante\u00a0:\n",
                "    * <https://entwanne.github.io/presentation_python_plongee_asynchrone/>\n",
                "\n",
                "<center><img src=\"qrcode.png\" style=\"height: 10em;\" /></center>"
            ]
        },
        {
            "cell_type": "markdown",
            "metadata": {
                "scrolled": true,
                "slideshow": {
                    "slide_type": "subslide"
                }
            },
            "source": [
                "## Questions\u00a0?"
            ]
        }
    ],
    "metadata": {
        "celltoolbar": "Slideshow",
        "kernelspec": {
            "display_name": "Python 3",
            "language": "python",
            "name": "python3"
        },
        "language_info": {
            "codemirror_mode": {
                "name": "ipython",
                "version": 3
            },
            "file_extension": ".py",
            "mimetype": "text/x-python",
            "name": "python",
            "nbconvert_exporter": "python",
            "pygments_lexer": "ipython3",
            "version": "3.6.5"
        },
        "livereveal": {
            "autolaunch": false
        }
    },
    "nbformat": 4,
    "nbformat_minor": 2
}